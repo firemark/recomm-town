{
 "cells": [
  {
   "cell_type": "code",
   "execution_count": null,
   "id": "7fe56e7b",
   "metadata": {},
   "outputs": [],
   "source": [
    "from matplotlib import pyplot as plt\n",
    "from matplotlib.patches import Patch\n",
    "from matplotlib.colors import to_rgb\n",
    "from matplotlib.ticker import PercentFormatter, FuncFormatter\n",
    "from datetime import timedelta\n",
    "import json\n",
    "\n",
    "def to_time(t, _):\n",
    "    m = int(t / 60)\n",
    "    s = int(t) % 60\n",
    "    return f\"{m:02d}:{s:02d}\"\n",
    "\n",
    "with open(\"wtf.json\") as file:\n",
    "    data = json.load(file)"
   ]
  },
  {
   "cell_type": "code",
   "execution_count": null,
   "id": "4e6379ff",
   "metadata": {},
   "outputs": [],
   "source": [
    "sorted_trivias = [t for t, v in sorted(data[\"last_values\"].items(), key=lambda o: -o[1])]\n",
    "highscore = sorted_trivias[:8]\n",
    "\n",
    "for index, trivia in enumerate(highscore, start=1):\n",
    "    plot = data[\"plot\"][trivia]\n",
    "    label = f\"{index:}. {trivia}\"\n",
    "    x = [p[0] for p in plot]\n",
    "    y = [p[1] for p in plot]\n",
    "    plt.plot(x, y, label=label)\n",
    "\n",
    "ax = plt.gca()\n",
    "fig = plt.gcf()\n",
    "fig.set_size_inches(15, 5)\n",
    "ax.legend()\n",
    "ax.grid(alpha=0.50, which=\"major\")\n",
    "ax.grid(alpha=0.25, which=\"minor\")\n",
    "ax.yaxis.set_major_formatter(PercentFormatter(xmax=1.0))\n",
    "ax.xaxis.set_major_formatter(FuncFormatter(to_time))"
   ]
  },
  {
   "cell_type": "code",
   "execution_count": null,
   "id": "dc69c3f9",
   "metadata": {},
   "outputs": [],
   "source": [
    "import numpy as np\n",
    "trivia = highscore[0]\n",
    "\n",
    "cycle = plt.rcParams['axes.prop_cycle']()\n",
    "legend = []\n",
    "\n",
    "max_v = 1\n",
    "\n",
    "for trivia in highscore:\n",
    "    heatmap = data[\"heatmap\"][trivia]\n",
    "    max_v = max(max_v, max(max(x for x in y) for y in heatmap))\n",
    "    \n",
    "\n",
    "for params, (index, trivia) in zip(cycle, enumerate(highscore, start=1)):\n",
    "    color = to_rgb(params[\"color\"]) + (1.0,)\n",
    "    img = np.array(data[\"heatmap\"][trivia])\n",
    "    img = color * (img / max_v).reshape(*img.shape, 1)\n",
    "    plt.imshow(img)\n",
    "    legend.append(Patch(facecolor=color, label=f\"{index}. {trivia}\"))\n",
    "\n",
    "ax = plt.gca()\n",
    "ax.legend(handles=legend)\n",
    "fig = plt.gcf()\n",
    "fig.set_size_inches(10, 10)"
   ]
  },
  {
   "cell_type": "code",
   "execution_count": null,
   "id": "1b6dd426",
   "metadata": {},
   "outputs": [],
   "source": []
  }
 ],
 "metadata": {
  "kernelspec": {
   "display_name": "Python 3",
   "language": "python",
   "name": "python3"
  },
  "language_info": {
   "codemirror_mode": {
    "name": "ipython",
    "version": 3
   },
   "file_extension": ".py",
   "mimetype": "text/x-python",
   "name": "python",
   "nbconvert_exporter": "python",
   "pygments_lexer": "ipython3",
   "version": "3.8.10"
  }
 },
 "nbformat": 4,
 "nbformat_minor": 5
}
