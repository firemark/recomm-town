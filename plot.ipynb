{
 "cells": [
  {
   "cell_type": "code",
   "execution_count": null,
   "id": "a2fab073",
   "metadata": {},
   "outputs": [],
   "source": [
    "from matplotlib import pyplot as plt\n",
    "from matplotlib.patches import Patch\n",
    "from matplotlib.colors import to_rgb\n",
    "from matplotlib.ticker import PercentFormatter, FuncFormatter\n",
    "from datetime import timedelta\n",
    "import json\n",
    "\n",
    "def to_time(t, _):\n",
    "    m = int(t / 60)\n",
    "    s = int(t) % 60\n",
    "    return f\"{m:02d}:{s:02d}\"\n",
    "\n",
    "with open(\"wtf.json\") as file:\n",
    "    data = json.load(file)"
   ]
  },
  {
   "cell_type": "code",
   "execution_count": null,
   "id": "f4a2a252",
   "metadata": {},
   "outputs": [],
   "source": [
    "sorted_trivias = [t for t, v in sorted(data[\"last_values\"].items(), key=lambda o: -o[1])]\n",
    "highscore = sorted_trivias[:8]\n",
    "\n",
    "for index, trivia in enumerate(highscore, start=1):\n",
    "    plot = data[\"plot\"][trivia]\n",
    "    label = f\"{index:}. {trivia}\"\n",
    "    x = [p[0] for p in plot]\n",
    "    y = [p[1] for p in plot]\n",
    "    plt.plot(x, y, label=label)\n",
    "\n",
    "ax = plt.gca()\n",
    "fig = plt.gcf()\n",
    "fig.set_size_inches(15, 5)\n",
    "ax.legend()\n",
    "ax.grid(alpha=0.50, which=\"major\")\n",
    "ax.grid(alpha=0.25, which=\"minor\")\n",
    "ax.yaxis.set_major_formatter(PercentFormatter(xmax=1.0))\n",
    "ax.xaxis.set_major_formatter(FuncFormatter(to_time))"
   ]
  },
  {
   "cell_type": "code",
   "execution_count": null,
   "id": "8f73cba7",
   "metadata": {},
   "outputs": [],
   "source": [
    "import numpy as np\n",
    "import matplotlib.colors as mcolors\n",
    "from cycler import cycler\n",
    "\n",
    "cycle = cycler(color=['tab:blue', 'tab:red', 'tab:green', 'yellow', 'cyan', 'fuchsia'])\n",
    "legend = []\n",
    "max_v = 1\n",
    "TOP = 6\n",
    "\n",
    "for trivia in highscore[:TOP]:\n",
    "    heatmap = data[\"heatmap\"][trivia]\n",
    "    max_v = max(max_v, max(max(x for x in y) for y in heatmap))\n",
    "    \n",
    "for params, (index, trivia) in zip(cycle, enumerate(highscore[:TOP], start=1)):\n",
    "    color = to_rgb(params[\"color\"]) + (1.0,)\n",
    "    heatmap = np.array(data[\"heatmap\"][trivia])\n",
    "    img = color * (heatmap / max_v).reshape(*heatmap.shape, 1)\n",
    "    plt.imshow(img)\n",
    "    legend.append(Patch(facecolor=color, label=f\"{index}. {trivia}\"))\n",
    "\n",
    "ax = plt.gca()\n",
    "ax.set_xticks([])\n",
    "ax.set_yticks([])\n",
    "ax.legend(\n",
    "    handles=legend,\n",
    "    bbox_to_anchor=(0.5, 0.0),\n",
    "    loc='upper center',\n",
    "    ncol=3,\n",
    ")\n",
    "fig = plt.gcf()\n",
    "fig.set_size_inches(img.shape[1] / 3.0, img.shape[0] / 3.0)"
   ]
  },
  {
   "cell_type": "code",
   "execution_count": null,
   "id": "3c9cb82d",
   "metadata": {},
   "outputs": [],
   "source": []
  }
 ],
 "metadata": {
  "kernelspec": {
   "display_name": "Python 3",
   "language": "python",
   "name": "python3"
  },
  "language_info": {
   "codemirror_mode": {
    "name": "ipython",
    "version": 3
   },
   "file_extension": ".py",
   "mimetype": "text/x-python",
   "name": "python",
   "nbconvert_exporter": "python",
   "pygments_lexer": "ipython3",
   "version": "3.8.10"
  }
 },
 "nbformat": 4,
 "nbformat_minor": 5
}
